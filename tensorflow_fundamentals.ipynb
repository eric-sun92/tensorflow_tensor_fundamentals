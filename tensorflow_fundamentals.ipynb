{
  "nbformat": 4,
  "nbformat_minor": 0,
  "metadata": {
    "colab": {
      "provenance": [],
      "authorship_tag": "ABX9TyP4Yr6WR5K7dXVPMvsis+PI",
      "include_colab_link": true
    },
    "kernelspec": {
      "name": "python3",
      "display_name": "Python 3"
    },
    "language_info": {
      "name": "python"
    }
  },
  "cells": [
    {
      "cell_type": "markdown",
      "metadata": {
        "id": "view-in-github",
        "colab_type": "text"
      },
      "source": [
        "<a href=\"https://colab.research.google.com/github/eric-sun92/tensorflow_tensor_fundamentals/blob/main/tensorflow_fundamentals.ipynb\" target=\"_parent\"><img src=\"https://colab.research.google.com/assets/colab-badge.svg\" alt=\"Open In Colab\"/></a>"
      ]
    },
    {
      "cell_type": "code",
      "execution_count": 1,
      "metadata": {
        "id": "RA8-zquTLXyU"
      },
      "outputs": [],
      "source": [
        "import tensorflow as tf"
      ]
    },
    {
      "cell_type": "code",
      "source": [
        "# creating tensors with tf.constant()\n",
        "scalar = tf.constant(7)\n",
        "scalar"
      ],
      "metadata": {
        "colab": {
          "base_uri": "https://localhost:8080/"
        },
        "id": "IPLwJMaiLfTv",
        "outputId": "3bed2800-1936-4b08-ef22-feb009e5aaf3"
      },
      "execution_count": 2,
      "outputs": [
        {
          "output_type": "execute_result",
          "data": {
            "text/plain": [
              "<tf.Tensor: shape=(), dtype=int32, numpy=7>"
            ]
          },
          "metadata": {},
          "execution_count": 2
        }
      ]
    },
    {
      "cell_type": "code",
      "source": [
        "scalar.ndim, scalar.shape"
      ],
      "metadata": {
        "colab": {
          "base_uri": "https://localhost:8080/"
        },
        "id": "HQfHbmGBLwm9",
        "outputId": "545a7d5b-9916-4ecf-e041-edf57255f10b"
      },
      "execution_count": 3,
      "outputs": [
        {
          "output_type": "execute_result",
          "data": {
            "text/plain": [
              "(0, TensorShape([]))"
            ]
          },
          "metadata": {},
          "execution_count": 3
        }
      ]
    },
    {
      "cell_type": "code",
      "source": [
        "vector = tf.constant([10, 10])\n",
        "vector"
      ],
      "metadata": {
        "colab": {
          "base_uri": "https://localhost:8080/"
        },
        "id": "TK_Ma-nfMHBI",
        "outputId": "ab229697-044d-42f9-99ff-3b03ee5cb944"
      },
      "execution_count": 4,
      "outputs": [
        {
          "output_type": "execute_result",
          "data": {
            "text/plain": [
              "<tf.Tensor: shape=(2,), dtype=int32, numpy=array([10, 10], dtype=int32)>"
            ]
          },
          "metadata": {},
          "execution_count": 4
        }
      ]
    },
    {
      "cell_type": "code",
      "source": [
        "vector.ndim"
      ],
      "metadata": {
        "colab": {
          "base_uri": "https://localhost:8080/"
        },
        "id": "_RYH4TYHMQTb",
        "outputId": "742eeb02-c5ab-4641-ef9c-187465676ae2"
      },
      "execution_count": 5,
      "outputs": [
        {
          "output_type": "execute_result",
          "data": {
            "text/plain": [
              "1"
            ]
          },
          "metadata": {},
          "execution_count": 5
        }
      ]
    },
    {
      "cell_type": "code",
      "source": [
        "matrix = tf.constant([[10, 7],\n",
        "                      [7, 10]], dtype=tf.float16)\n",
        "matrix, matrix.ndim"
      ],
      "metadata": {
        "colab": {
          "base_uri": "https://localhost:8080/"
        },
        "id": "bA2yvhBfMXR5",
        "outputId": "ed6d5353-186d-4f35-f2d0-39c2efc81b7f"
      },
      "execution_count": 6,
      "outputs": [
        {
          "output_type": "execute_result",
          "data": {
            "text/plain": [
              "(<tf.Tensor: shape=(2, 2), dtype=float16, numpy=\n",
              " array([[10.,  7.],\n",
              "        [ 7., 10.]], dtype=float16)>,\n",
              " 2)"
            ]
          },
          "metadata": {},
          "execution_count": 6
        }
      ]
    },
    {
      "cell_type": "markdown",
      "source": [
        "Changeable (tf.Variable) vs Non-changeable (tf.constant) Tensors"
      ],
      "metadata": {
        "id": "qfnH_wWfoKtr"
      }
    },
    {
      "cell_type": "code",
      "source": [
        "changeable_tensor = tf.Variable([10, 7])\n",
        "changeable_tensor"
      ],
      "metadata": {
        "colab": {
          "base_uri": "https://localhost:8080/"
        },
        "id": "VnI-eh1eMmTe",
        "outputId": "8d4799a4-a492-488e-9a9b-efbc79cdc7db"
      },
      "execution_count": 8,
      "outputs": [
        {
          "output_type": "execute_result",
          "data": {
            "text/plain": [
              "<tf.Variable 'Variable:0' shape=(2,) dtype=int32, numpy=array([10,  7], dtype=int32)>"
            ]
          },
          "metadata": {},
          "execution_count": 8
        }
      ]
    },
    {
      "cell_type": "code",
      "source": [
        "changeable_tensor[0].assign(7)\n",
        "changeable_tensor"
      ],
      "metadata": {
        "colab": {
          "base_uri": "https://localhost:8080/"
        },
        "id": "OiH6GyRgM_d2",
        "outputId": "7d7488e9-279a-4b39-d38b-5150f39966b3"
      },
      "execution_count": 10,
      "outputs": [
        {
          "output_type": "execute_result",
          "data": {
            "text/plain": [
              "<tf.Variable 'Variable:0' shape=(2,) dtype=int32, numpy=array([7, 7], dtype=int32)>"
            ]
          },
          "metadata": {},
          "execution_count": 10
        }
      ]
    },
    {
      "cell_type": "code",
      "source": [
        "unchangeable_tensor = tf.constant([10, 7])\n",
        "unchangeable_tensor"
      ],
      "metadata": {
        "colab": {
          "base_uri": "https://localhost:8080/"
        },
        "id": "LtCucz5xng9I",
        "outputId": "24b2c996-33e8-477e-bf79-cdcb44a1d5a2"
      },
      "execution_count": 11,
      "outputs": [
        {
          "output_type": "execute_result",
          "data": {
            "text/plain": [
              "<tf.Tensor: shape=(2,), dtype=int32, numpy=array([10,  7], dtype=int32)>"
            ]
          },
          "metadata": {},
          "execution_count": 11
        }
      ]
    },
    {
      "cell_type": "code",
      "source": [
        "# creating random tensors\n",
        "random_1 = tf.random.Generator.from_seed(42)\n",
        "random_1 = random_1.normal(shape=(3, 2))\n",
        "random_2 = tf.random.Generator.from_seed(42)\n",
        "random_2 = random_2.uniform(shape=(3, 2))\n",
        "random_1, random_2"
      ],
      "metadata": {
        "colab": {
          "base_uri": "https://localhost:8080/"
        },
        "id": "AQgDPIPfnttD",
        "outputId": "4ceb4cfa-bbb4-4501-d573-5805965b64c3"
      },
      "execution_count": 21,
      "outputs": [
        {
          "output_type": "execute_result",
          "data": {
            "text/plain": [
              "(<tf.Tensor: shape=(3, 2), dtype=float32, numpy=\n",
              " array([[-0.7565803 , -0.06854702],\n",
              "        [ 0.07595026, -1.2573844 ],\n",
              "        [-0.23193763, -1.8107855 ]], dtype=float32)>,\n",
              " <tf.Tensor: shape=(3, 2), dtype=float32, numpy=\n",
              " array([[0.7493447 , 0.73561966],\n",
              "        [0.45230794, 0.49039817],\n",
              "        [0.1889317 , 0.52027524]], dtype=float32)>)"
            ]
          },
          "metadata": {},
          "execution_count": 21
        }
      ]
    },
    {
      "cell_type": "code",
      "source": [
        "tf.random.set_seed(42)\n",
        "non_shuffled = tf.constant([[10, 7],\n",
        "             [1, 2],\n",
        "             [3, 5]])\n",
        "shuffled = tf.random.shuffle(non_shuffled)\n",
        "shuffled"
      ],
      "metadata": {
        "colab": {
          "base_uri": "https://localhost:8080/"
        },
        "id": "ts2K2IhBpIWg",
        "outputId": "279d310a-4f6f-47c3-b75c-37b1b1e74096"
      },
      "execution_count": 52,
      "outputs": [
        {
          "output_type": "execute_result",
          "data": {
            "text/plain": [
              "<tf.Tensor: shape=(3, 2), dtype=int32, numpy=\n",
              "array([[ 1,  2],\n",
              "       [ 3,  5],\n",
              "       [10,  7]], dtype=int32)>"
            ]
          },
          "metadata": {},
          "execution_count": 52
        }
      ]
    },
    {
      "cell_type": "code",
      "source": [
        "ones = tf.ones(shape=(2, 3))\n",
        "ones"
      ],
      "metadata": {
        "colab": {
          "base_uri": "https://localhost:8080/"
        },
        "id": "3CUeuMp_tj4K",
        "outputId": "a0d3aed4-ad86-4f08-f8ce-3c48c4c9aee5"
      },
      "execution_count": 53,
      "outputs": [
        {
          "output_type": "execute_result",
          "data": {
            "text/plain": [
              "<tf.Tensor: shape=(2, 3), dtype=float32, numpy=\n",
              "array([[1., 1., 1.],\n",
              "       [1., 1., 1.]], dtype=float32)>"
            ]
          },
          "metadata": {},
          "execution_count": 53
        }
      ]
    },
    {
      "cell_type": "code",
      "source": [
        "zeros = tf.zeros((1, 2))\n",
        "zeros"
      ],
      "metadata": {
        "colab": {
          "base_uri": "https://localhost:8080/"
        },
        "id": "bAFZtFaUtneR",
        "outputId": "d3662e6a-ae8d-4a1f-fbbc-603439b77471"
      },
      "execution_count": 55,
      "outputs": [
        {
          "output_type": "execute_result",
          "data": {
            "text/plain": [
              "<tf.Tensor: shape=(1, 2), dtype=float32, numpy=array([[0., 0.]], dtype=float32)>"
            ]
          },
          "metadata": {},
          "execution_count": 55
        }
      ]
    },
    {
      "cell_type": "code",
      "source": [
        "# X = tf.constant(some_matrix) -> uppercase\n",
        "# y = tf.constant(some_vector) -> lowercase"
      ],
      "metadata": {
        "id": "0NAcEzqNrFPN"
      },
      "execution_count": null,
      "outputs": []
    },
    {
      "cell_type": "markdown",
      "source": [
        "Turn numpy array to tensorflow *tensor*"
      ],
      "metadata": {
        "id": "gPhn0fgZtWIy"
      }
    },
    {
      "cell_type": "code",
      "source": [
        "import numpy as np\n",
        "\n",
        "np_array = np.arange(0, 10, dtype=np.int32)\n",
        "np_array"
      ],
      "metadata": {
        "colab": {
          "base_uri": "https://localhost:8080/"
        },
        "id": "vdZ7oRYrtaJA",
        "outputId": "00f54bcd-99d7-4a56-8e29-538892e7a03e"
      },
      "execution_count": 62,
      "outputs": [
        {
          "output_type": "execute_result",
          "data": {
            "text/plain": [
              "array([0, 1, 2, 3, 4, 5, 6, 7, 8, 9], dtype=int32)"
            ]
          },
          "metadata": {},
          "execution_count": 62
        }
      ]
    },
    {
      "cell_type": "code",
      "source": [
        "a = tf.constant(np_array)\n",
        "a"
      ],
      "metadata": {
        "colab": {
          "base_uri": "https://localhost:8080/"
        },
        "id": "VfhwY6swtxYZ",
        "outputId": "f67824ba-badd-4d99-be06-3750d914f082"
      },
      "execution_count": 63,
      "outputs": [
        {
          "output_type": "execute_result",
          "data": {
            "text/plain": [
              "<tf.Tensor: shape=(10,), dtype=int32, numpy=array([0, 1, 2, 3, 4, 5, 6, 7, 8, 9], dtype=int32)>"
            ]
          },
          "metadata": {},
          "execution_count": 63
        }
      ]
    },
    {
      "cell_type": "code",
      "source": [
        "B = tf.constant(np_array, shape=(5, 2))\n",
        "B"
      ],
      "metadata": {
        "colab": {
          "base_uri": "https://localhost:8080/"
        },
        "id": "txa6Cqibt6e_",
        "outputId": "17b55892-5dea-4d87-b9c8-b258520733f4"
      },
      "execution_count": 65,
      "outputs": [
        {
          "output_type": "execute_result",
          "data": {
            "text/plain": [
              "<tf.Tensor: shape=(5, 2), dtype=int32, numpy=\n",
              "array([[0, 1],\n",
              "       [2, 3],\n",
              "       [4, 5],\n",
              "       [6, 7],\n",
              "       [8, 9]], dtype=int32)>"
            ]
          },
          "metadata": {},
          "execution_count": 65
        }
      ]
    },
    {
      "cell_type": "code",
      "source": [
        "B = B.numpy()\n",
        "B"
      ],
      "metadata": {
        "colab": {
          "base_uri": "https://localhost:8080/"
        },
        "id": "-bocaH67vFTT",
        "outputId": "408c315e-1fc4-485d-b741-82b3b93c63c0"
      },
      "execution_count": 66,
      "outputs": [
        {
          "output_type": "execute_result",
          "data": {
            "text/plain": [
              "array([[0, 1],\n",
              "       [2, 3],\n",
              "       [4, 5],\n",
              "       [6, 7],\n",
              "       [8, 9]], dtype=int32)"
            ]
          },
          "metadata": {},
          "execution_count": 66
        }
      ]
    },
    {
      "cell_type": "code",
      "source": [
        "test = tf.random.uniform(shape=(2, 3, 4, 5))\n",
        "test"
      ],
      "metadata": {
        "colab": {
          "base_uri": "https://localhost:8080/"
        },
        "id": "whWU_vptJX5m",
        "outputId": "a81898b4-3f72-456f-a0e1-8eb155e8421d"
      },
      "execution_count": 83,
      "outputs": [
        {
          "output_type": "execute_result",
          "data": {
            "text/plain": [
              "<tf.Tensor: shape=(2, 3, 4, 5), dtype=float32, numpy=\n",
              "array([[[[0.803156  , 0.49777734, 0.37054038, 0.9118674 , 0.637642  ],\n",
              "         [0.18209696, 0.63791955, 0.27701473, 0.04227114, 0.84219384],\n",
              "         [0.90637195, 0.222556  , 0.9198462 , 0.68789077, 0.42705178],\n",
              "         [0.878158  , 0.6943959 , 0.46567595, 0.52925766, 0.33019018]],\n",
              "\n",
              "        [[0.12754858, 0.16153514, 0.5085137 , 0.44301772, 0.35205877],\n",
              "         [0.8969147 , 0.24940813, 0.76328313, 0.85935795, 0.08480155],\n",
              "         [0.20418596, 0.28848922, 0.65142167, 0.7106751 , 0.8695041 ],\n",
              "         [0.23745108, 0.6688912 , 0.7115667 , 0.21899498, 0.7702793 ]],\n",
              "\n",
              "        [[0.45055628, 0.95493364, 0.71695936, 0.98945487, 0.1511141 ],\n",
              "         [0.06240606, 0.15209746, 0.99522185, 0.7830266 , 0.10455871],\n",
              "         [0.40613055, 0.04687667, 0.83119476, 0.8572043 , 0.28471017],\n",
              "         [0.2854122 , 0.3370154 , 0.6854944 , 0.46100128, 0.6476023 ]]],\n",
              "\n",
              "\n",
              "       [[[0.65136576, 0.3152976 , 0.10924482, 0.05294752, 0.05602324],\n",
              "         [0.11310673, 0.26957738, 0.50644445, 0.72646904, 0.43858194],\n",
              "         [0.52193725, 0.60818696, 0.07544327, 0.31124008, 0.35502148],\n",
              "         [0.1301198 , 0.41656697, 0.3378446 , 0.13285017, 0.88291657]],\n",
              "\n",
              "        [[0.9031842 , 0.23433816, 0.4439726 , 0.6048924 , 0.98451173],\n",
              "         [0.5012578 , 0.9042305 , 0.844815  , 0.48151517, 0.22057176],\n",
              "         [0.30299222, 0.55099475, 0.49145234, 0.2613945 , 0.67112255],\n",
              "         [0.6257659 , 0.03387237, 0.74822915, 0.44953668, 0.7916862 ]],\n",
              "\n",
              "        [[0.66769016, 0.52572095, 0.9067228 , 0.7545494 , 0.29585636],\n",
              "         [0.24441242, 0.62542164, 0.87361586, 0.97362864, 0.47582877],\n",
              "         [0.08059454, 0.7880024 , 0.9667567 , 0.03315616, 0.5986197 ],\n",
              "         [0.924268  , 0.5331031 , 0.6002598 , 0.12586606, 0.7704394 ]]]],\n",
              "      dtype=float32)>"
            ]
          },
          "metadata": {},
          "execution_count": 83
        }
      ]
    },
    {
      "cell_type": "code",
      "source": [
        "# Get the first 2 elements of each dimension\n",
        "test[:2, :2, :2, :2]\n"
      ],
      "metadata": {
        "colab": {
          "base_uri": "https://localhost:8080/"
        },
        "id": "0slZl6gCJP5H",
        "outputId": "bd21150e-cd63-4e66-8536-3675a5776ca8"
      },
      "execution_count": 84,
      "outputs": [
        {
          "output_type": "execute_result",
          "data": {
            "text/plain": [
              "<tf.Tensor: shape=(2, 2, 2, 2), dtype=float32, numpy=\n",
              "array([[[[0.803156  , 0.49777734],\n",
              "         [0.18209696, 0.63791955]],\n",
              "\n",
              "        [[0.12754858, 0.16153514],\n",
              "         [0.8969147 , 0.24940813]]],\n",
              "\n",
              "\n",
              "       [[[0.65136576, 0.3152976 ],\n",
              "         [0.11310673, 0.26957738]],\n",
              "\n",
              "        [[0.9031842 , 0.23433816],\n",
              "         [0.5012578 , 0.9042305 ]]]], dtype=float32)>"
            ]
          },
          "metadata": {},
          "execution_count": 84
        }
      ]
    },
    {
      "cell_type": "code",
      "source": [
        "#get the first element from each index except the final one\n",
        "test[:1, :1, :1]"
      ],
      "metadata": {
        "colab": {
          "base_uri": "https://localhost:8080/"
        },
        "id": "c8GOxRQ1Jyc8",
        "outputId": "9bda796f-dd93-4d57-c3ec-2348cc7f7328"
      },
      "execution_count": 85,
      "outputs": [
        {
          "output_type": "execute_result",
          "data": {
            "text/plain": [
              "<tf.Tensor: shape=(1, 1, 1, 5), dtype=float32, numpy=\n",
              "array([[[[0.803156  , 0.49777734, 0.37054038, 0.9118674 , 0.637642  ]]]],\n",
              "      dtype=float32)>"
            ]
          },
          "metadata": {},
          "execution_count": 85
        }
      ]
    },
    {
      "cell_type": "code",
      "source": [
        "# tf.expand_dims\n",
        "test.shape"
      ],
      "metadata": {
        "colab": {
          "base_uri": "https://localhost:8080/"
        },
        "id": "jnL1i7mZKgPh",
        "outputId": "61d4580d-3054-44e3-b927-451740d4d69e"
      },
      "execution_count": 87,
      "outputs": [
        {
          "output_type": "execute_result",
          "data": {
            "text/plain": [
              "TensorShape([2, 3, 4, 5])"
            ]
          },
          "metadata": {},
          "execution_count": 87
        }
      ]
    },
    {
      "cell_type": "code",
      "source": [
        "tf.expand_dims(test, axis=-1).shape\n"
      ],
      "metadata": {
        "colab": {
          "base_uri": "https://localhost:8080/"
        },
        "id": "4YK-tn_8LMmJ",
        "outputId": "8963ba8a-9000-4eab-921c-30f9e3099adc"
      },
      "execution_count": 90,
      "outputs": [
        {
          "output_type": "execute_result",
          "data": {
            "text/plain": [
              "TensorShape([2, 3, 4, 5, 1])"
            ]
          },
          "metadata": {},
          "execution_count": 90
        }
      ]
    },
    {
      "cell_type": "code",
      "source": [
        "tensor1 = tf.random.uniform(shape=(3, 2), dtype=tf.dtypes.int32, maxval=5)\n",
        "tensor2 = tf.random.uniform(shape=(2, 3), dtype=tf.dtypes.int32, maxval=5)\n",
        "tensor1, tensor2"
      ],
      "metadata": {
        "colab": {
          "base_uri": "https://localhost:8080/"
        },
        "id": "5qNzFeDPLVBF",
        "outputId": "e386cf13-513e-4d10-836e-01c7a70cfa85"
      },
      "execution_count": 104,
      "outputs": [
        {
          "output_type": "execute_result",
          "data": {
            "text/plain": [
              "(<tf.Tensor: shape=(3, 2), dtype=int32, numpy=\n",
              " array([[2, 0],\n",
              "        [4, 3],\n",
              "        [4, 4]], dtype=int32)>,\n",
              " <tf.Tensor: shape=(2, 3), dtype=int32, numpy=\n",
              " array([[1, 0, 0],\n",
              "        [4, 4, 2]], dtype=int32)>)"
            ]
          },
          "metadata": {},
          "execution_count": 104
        }
      ]
    },
    {
      "cell_type": "code",
      "source": [
        "tensor3 = tf.matmul(tensor1, tensor2)\n",
        "tensor3"
      ],
      "metadata": {
        "colab": {
          "base_uri": "https://localhost:8080/"
        },
        "id": "fYV_kOJmQmRJ",
        "outputId": "85c4b510-7a4c-4649-a0c0-841dd1674c78"
      },
      "execution_count": 105,
      "outputs": [
        {
          "output_type": "execute_result",
          "data": {
            "text/plain": [
              "<tf.Tensor: shape=(3, 3), dtype=int32, numpy=\n",
              "array([[ 2,  0,  0],\n",
              "       [16, 12,  6],\n",
              "       [20, 16,  8]], dtype=int32)>"
            ]
          },
          "metadata": {},
          "execution_count": 105
        }
      ]
    },
    {
      "cell_type": "code",
      "source": [
        "tensor3 = tensor1 @ tensor2\n",
        "tensor3"
      ],
      "metadata": {
        "colab": {
          "base_uri": "https://localhost:8080/"
        },
        "id": "Pro6MRk6RHqt",
        "outputId": "7e1c8522-2ae4-4eeb-e5c2-27e7a117623a"
      },
      "execution_count": 106,
      "outputs": [
        {
          "output_type": "execute_result",
          "data": {
            "text/plain": [
              "<tf.Tensor: shape=(3, 3), dtype=int32, numpy=\n",
              "array([[ 2,  0,  0],\n",
              "       [16, 12,  6],\n",
              "       [20, 16,  8]], dtype=int32)>"
            ]
          },
          "metadata": {},
          "execution_count": 106
        }
      ]
    },
    {
      "cell_type": "code",
      "source": [
        "tensor4 = tf.random.uniform(shape=(3, 2), dtype=tf.dtypes.int32, maxval=5)\n",
        "tensor5 = tf.matmul(tensor3, tensor4)"
      ],
      "metadata": {
        "id": "YlqN6R5NRPvs"
      },
      "execution_count": 112,
      "outputs": []
    },
    {
      "cell_type": "code",
      "source": [
        "tensor5 = tf.reshape(tensor5, shape=(2, 3))"
      ],
      "metadata": {
        "id": "TzmotxU2R6m_"
      },
      "execution_count": 120,
      "outputs": []
    },
    {
      "cell_type": "code",
      "source": [
        "tensor5 @ tensor4"
      ],
      "metadata": {
        "colab": {
          "base_uri": "https://localhost:8080/"
        },
        "id": "VnU1iTfsSM28",
        "outputId": "a5c31823-e2da-4912-f381-0f810ebd9580"
      },
      "execution_count": 121,
      "outputs": [
        {
          "output_type": "execute_result",
          "data": {
            "text/plain": [
              "<tf.Tensor: shape=(2, 2), dtype=int32, numpy=\n",
              "array([[ 36, 184],\n",
              "       [464, 808]], dtype=int32)>"
            ]
          },
          "metadata": {},
          "execution_count": 121
        }
      ]
    },
    {
      "cell_type": "code",
      "source": [
        "a = tf.constant([1, 2, 3, 4, 5, 6])"
      ],
      "metadata": {
        "id": "Qpj5B4bfSaWO"
      },
      "execution_count": 137,
      "outputs": []
    },
    {
      "cell_type": "code",
      "source": [
        "a = tf.reshape(a, shape=(2, 3))\n",
        "a"
      ],
      "metadata": {
        "colab": {
          "base_uri": "https://localhost:8080/"
        },
        "id": "Dv5pOiImTb3M",
        "outputId": "1b8de4cc-21f4-4757-e7d6-5f36647e235d"
      },
      "execution_count": 138,
      "outputs": [
        {
          "output_type": "execute_result",
          "data": {
            "text/plain": [
              "<tf.Tensor: shape=(2, 3), dtype=int32, numpy=\n",
              "array([[1, 2, 3],\n",
              "       [4, 5, 6]], dtype=int32)>"
            ]
          },
          "metadata": {},
          "execution_count": 138
        }
      ]
    },
    {
      "cell_type": "code",
      "source": [
        "tf.transpose(a, perm=[1, 0])"
      ],
      "metadata": {
        "colab": {
          "base_uri": "https://localhost:8080/"
        },
        "id": "5an5iWFDTd5O",
        "outputId": "a6530ee5-9129-4372-cf83-572a5495e7e9"
      },
      "execution_count": 139,
      "outputs": [
        {
          "output_type": "execute_result",
          "data": {
            "text/plain": [
              "<tf.Tensor: shape=(3, 2), dtype=int32, numpy=\n",
              "array([[1, 4],\n",
              "       [2, 5],\n",
              "       [3, 6]], dtype=int32)>"
            ]
          },
          "metadata": {},
          "execution_count": 139
        }
      ]
    },
    {
      "cell_type": "code",
      "source": [
        "tf.reshape(a, shape=(3, 2))"
      ],
      "metadata": {
        "colab": {
          "base_uri": "https://localhost:8080/"
        },
        "id": "Pt-4DlkTWNiB",
        "outputId": "d5181943-34e2-4584-9657-78c092eaaf65"
      },
      "execution_count": 140,
      "outputs": [
        {
          "output_type": "execute_result",
          "data": {
            "text/plain": [
              "<tf.Tensor: shape=(3, 2), dtype=int32, numpy=\n",
              "array([[1, 2],\n",
              "       [3, 4],\n",
              "       [5, 6]], dtype=int32)>"
            ]
          },
          "metadata": {},
          "execution_count": 140
        }
      ]
    },
    {
      "cell_type": "code",
      "source": [
        "# use tf.cast(a, dtype=tf.float16) to cast a to .dtype=tf.float16"
      ],
      "metadata": {
        "id": "EFkUMuqRTkn0"
      },
      "execution_count": 141,
      "outputs": []
    },
    {
      "cell_type": "code",
      "source": [],
      "metadata": {
        "id": "FqBBDIKDW0HQ"
      },
      "execution_count": null,
      "outputs": []
    }
  ]
}